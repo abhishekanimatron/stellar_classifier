{
 "cells": [
  {
   "cell_type": "markdown",
   "id": "6e842ea5",
   "metadata": {},
   "source": [
    "# Stellar Classification\n",
    "A classifier which classifies a set of parameters into either of Stars, Galaxies and Quasars. From Sloan Digital Sky Survey DR17\n",
    "\n",
    "Dataset used: Stellar Classification Dataset - SDSS17\n",
    "\n",
    "https://www.kaggle.com/fedesoriano/stellar-classification-dataset-sdss17\n",
    "\n",
    "### Context\n",
    "In astronomy, stellar classification is the classification of stars based on their spectral characteristics. The classification scheme of galaxies, quasars, and stars is one of the most fundamental in astronomy. The early cataloguing of stars and their distribution in the sky has led to the understanding that they make up our own galaxy and, following the distinction that Andromeda was a separate galaxy to our own, numerous galaxies began to be surveyed as more powerful telescopes were built. This datasat aims to classificate stars, galaxies, and quasars based on their spectral characteristics.\n",
    "\n",
    "### Content of data\n",
    "The data consists of 100,000 observations of space taken by the SDSS (Sloan Digital Sky Survey). Every observation is described by 17 feature columns and 1 class column which identifies it to be either a star, galaxy or quasar.\n",
    "1. obj_ID = Object Identifier, the unique value that identifies the object in the image catalog used by the CAS\n",
    "2. alpha = Right Ascension angle (at J2000 epoch)\n",
    "3. delta = Declination angle (at J2000 epoch)\n",
    "4. u = Ultraviolet filter in the photometric system\n",
    "5. g = Green filter in the photometric system\n",
    "6. r = Red filter in the photometric system\n",
    "7. i = Near Infrared filter in the photometric system\n",
    "8. z = Infrared filter in the photometric system\n",
    "9. run_ID = Run Number used to identify the specific scan\n",
    "10. rereun_ID = Rerun Number to specify how the image was processed\n",
    "11. cam_col = Camera column to identify the scanline within the run\n",
    "12. field_ID = Field number to identify each field\n",
    "13. spec_obj_ID = Unique ID used for optical spectroscopic objects (this means that 2 different observations with the same spec_obj_ID must share the output class)\n",
    "14. class = object class (galaxy, star or quasar object)\n",
    "15. redshift = redshift value based on the increase in wavelength\n",
    "16. plate = plate ID, identifies each plate in SDSS\n",
    "17. MJD = Modified Julian Date, used to indicate when a given piece of SDSS data was taken\n",
    "18. fiber_ID = fiber ID that identifies the fiber that pointed the light at the focal plane in each observation\n",
    "\n",
    "### References\n",
    "https://www.kaggle.com/prasadchaskar/steller-classification-with-97-accuracy\n",
    "\n",
    "https://www.kaggle.com/beyzanks/stellar-classification-98-4-acc-100-auc"
   ]
  },
  {
   "cell_type": "markdown",
   "id": "f2ce084c",
   "metadata": {},
   "source": [
    "## Notebook\n",
    "\n",
    "### Step 1\n",
    "Import libraries and the dataset from the csv(comma separated values) file."
   ]
  },
  {
   "cell_type": "code",
   "execution_count": 5,
   "id": "413fd339",
   "metadata": {},
   "outputs": [],
   "source": [
    "# Importing standard libraries\n",
    "import pandas as pd\n",
    "import numpy as np\n",
    "import seaborn as sns"
   ]
  },
  {
   "cell_type": "code",
   "execution_count": 6,
   "id": "6f47d293",
   "metadata": {},
   "outputs": [],
   "source": [
    "df = pd.read_csv(\"star_classification.csv\")"
   ]
  },
  {
   "cell_type": "markdown",
   "id": "bc0e766e",
   "metadata": {},
   "source": [
    "### Step 2\n",
    "Exploring data for the values we have and if we any problems associated with the data."
   ]
  },
  {
   "cell_type": "code",
   "execution_count": 7,
   "id": "0b7382f6",
   "metadata": {},
   "outputs": [
    {
     "data": {
      "text/html": [
       "<div>\n",
       "<style scoped>\n",
       "    .dataframe tbody tr th:only-of-type {\n",
       "        vertical-align: middle;\n",
       "    }\n",
       "\n",
       "    .dataframe tbody tr th {\n",
       "        vertical-align: top;\n",
       "    }\n",
       "\n",
       "    .dataframe thead th {\n",
       "        text-align: right;\n",
       "    }\n",
       "</style>\n",
       "<table border=\"1\" class=\"dataframe\">\n",
       "  <thead>\n",
       "    <tr style=\"text-align: right;\">\n",
       "      <th></th>\n",
       "      <th>obj_ID</th>\n",
       "      <th>alpha</th>\n",
       "      <th>delta</th>\n",
       "      <th>u</th>\n",
       "      <th>g</th>\n",
       "      <th>r</th>\n",
       "      <th>i</th>\n",
       "      <th>z</th>\n",
       "      <th>run_ID</th>\n",
       "      <th>rerun_ID</th>\n",
       "      <th>cam_col</th>\n",
       "      <th>field_ID</th>\n",
       "      <th>spec_obj_ID</th>\n",
       "      <th>class</th>\n",
       "      <th>redshift</th>\n",
       "      <th>plate</th>\n",
       "      <th>MJD</th>\n",
       "      <th>fiber_ID</th>\n",
       "    </tr>\n",
       "  </thead>\n",
       "  <tbody>\n",
       "    <tr>\n",
       "      <th>0</th>\n",
       "      <td>1.237661e+18</td>\n",
       "      <td>135.689107</td>\n",
       "      <td>32.494632</td>\n",
       "      <td>23.87882</td>\n",
       "      <td>22.27530</td>\n",
       "      <td>20.39501</td>\n",
       "      <td>19.16573</td>\n",
       "      <td>18.79371</td>\n",
       "      <td>3606</td>\n",
       "      <td>301</td>\n",
       "      <td>2</td>\n",
       "      <td>79</td>\n",
       "      <td>6.543777e+18</td>\n",
       "      <td>GALAXY</td>\n",
       "      <td>0.634794</td>\n",
       "      <td>5812</td>\n",
       "      <td>56354</td>\n",
       "      <td>171</td>\n",
       "    </tr>\n",
       "    <tr>\n",
       "      <th>1</th>\n",
       "      <td>1.237665e+18</td>\n",
       "      <td>144.826101</td>\n",
       "      <td>31.274185</td>\n",
       "      <td>24.77759</td>\n",
       "      <td>22.83188</td>\n",
       "      <td>22.58444</td>\n",
       "      <td>21.16812</td>\n",
       "      <td>21.61427</td>\n",
       "      <td>4518</td>\n",
       "      <td>301</td>\n",
       "      <td>5</td>\n",
       "      <td>119</td>\n",
       "      <td>1.176014e+19</td>\n",
       "      <td>GALAXY</td>\n",
       "      <td>0.779136</td>\n",
       "      <td>10445</td>\n",
       "      <td>58158</td>\n",
       "      <td>427</td>\n",
       "    </tr>\n",
       "    <tr>\n",
       "      <th>2</th>\n",
       "      <td>1.237661e+18</td>\n",
       "      <td>142.188790</td>\n",
       "      <td>35.582444</td>\n",
       "      <td>25.26307</td>\n",
       "      <td>22.66389</td>\n",
       "      <td>20.60976</td>\n",
       "      <td>19.34857</td>\n",
       "      <td>18.94827</td>\n",
       "      <td>3606</td>\n",
       "      <td>301</td>\n",
       "      <td>2</td>\n",
       "      <td>120</td>\n",
       "      <td>5.152200e+18</td>\n",
       "      <td>GALAXY</td>\n",
       "      <td>0.644195</td>\n",
       "      <td>4576</td>\n",
       "      <td>55592</td>\n",
       "      <td>299</td>\n",
       "    </tr>\n",
       "    <tr>\n",
       "      <th>3</th>\n",
       "      <td>1.237663e+18</td>\n",
       "      <td>338.741038</td>\n",
       "      <td>-0.402828</td>\n",
       "      <td>22.13682</td>\n",
       "      <td>23.77656</td>\n",
       "      <td>21.61162</td>\n",
       "      <td>20.50454</td>\n",
       "      <td>19.25010</td>\n",
       "      <td>4192</td>\n",
       "      <td>301</td>\n",
       "      <td>3</td>\n",
       "      <td>214</td>\n",
       "      <td>1.030107e+19</td>\n",
       "      <td>GALAXY</td>\n",
       "      <td>0.932346</td>\n",
       "      <td>9149</td>\n",
       "      <td>58039</td>\n",
       "      <td>775</td>\n",
       "    </tr>\n",
       "    <tr>\n",
       "      <th>4</th>\n",
       "      <td>1.237680e+18</td>\n",
       "      <td>345.282593</td>\n",
       "      <td>21.183866</td>\n",
       "      <td>19.43718</td>\n",
       "      <td>17.58028</td>\n",
       "      <td>16.49747</td>\n",
       "      <td>15.97711</td>\n",
       "      <td>15.54461</td>\n",
       "      <td>8102</td>\n",
       "      <td>301</td>\n",
       "      <td>3</td>\n",
       "      <td>137</td>\n",
       "      <td>6.891865e+18</td>\n",
       "      <td>GALAXY</td>\n",
       "      <td>0.116123</td>\n",
       "      <td>6121</td>\n",
       "      <td>56187</td>\n",
       "      <td>842</td>\n",
       "    </tr>\n",
       "  </tbody>\n",
       "</table>\n",
       "</div>"
      ],
      "text/plain": [
       "         obj_ID       alpha      delta         u         g         r  \\\n",
       "0  1.237661e+18  135.689107  32.494632  23.87882  22.27530  20.39501   \n",
       "1  1.237665e+18  144.826101  31.274185  24.77759  22.83188  22.58444   \n",
       "2  1.237661e+18  142.188790  35.582444  25.26307  22.66389  20.60976   \n",
       "3  1.237663e+18  338.741038  -0.402828  22.13682  23.77656  21.61162   \n",
       "4  1.237680e+18  345.282593  21.183866  19.43718  17.58028  16.49747   \n",
       "\n",
       "          i         z  run_ID  rerun_ID  cam_col  field_ID   spec_obj_ID  \\\n",
       "0  19.16573  18.79371    3606       301        2        79  6.543777e+18   \n",
       "1  21.16812  21.61427    4518       301        5       119  1.176014e+19   \n",
       "2  19.34857  18.94827    3606       301        2       120  5.152200e+18   \n",
       "3  20.50454  19.25010    4192       301        3       214  1.030107e+19   \n",
       "4  15.97711  15.54461    8102       301        3       137  6.891865e+18   \n",
       "\n",
       "    class  redshift  plate    MJD  fiber_ID  \n",
       "0  GALAXY  0.634794   5812  56354       171  \n",
       "1  GALAXY  0.779136  10445  58158       427  \n",
       "2  GALAXY  0.644195   4576  55592       299  \n",
       "3  GALAXY  0.932346   9149  58039       775  \n",
       "4  GALAXY  0.116123   6121  56187       842  "
      ]
     },
     "execution_count": 7,
     "metadata": {},
     "output_type": "execute_result"
    }
   ],
   "source": [
    "df.head()"
   ]
  },
  {
   "cell_type": "code",
   "execution_count": 8,
   "id": "f13a93bf",
   "metadata": {},
   "outputs": [
    {
     "data": {
      "text/plain": [
       "Index(['obj_ID', 'alpha', 'delta', 'u', 'g', 'r', 'i', 'z', 'run_ID',\n",
       "       'rerun_ID', 'cam_col', 'field_ID', 'spec_obj_ID', 'class', 'redshift',\n",
       "       'plate', 'MJD', 'fiber_ID'],\n",
       "      dtype='object')"
      ]
     },
     "execution_count": 8,
     "metadata": {},
     "output_type": "execute_result"
    }
   ],
   "source": [
    "# The columns in our data\n",
    "df.columns"
   ]
  },
  {
   "cell_type": "code",
   "execution_count": 9,
   "id": "8222a5e3",
   "metadata": {
    "scrolled": true
   },
   "outputs": [
    {
     "name": "stdout",
     "output_type": "stream",
     "text": [
      "<class 'pandas.core.frame.DataFrame'>\n",
      "RangeIndex: 100000 entries, 0 to 99999\n",
      "Data columns (total 18 columns):\n",
      " #   Column       Non-Null Count   Dtype  \n",
      "---  ------       --------------   -----  \n",
      " 0   obj_ID       100000 non-null  float64\n",
      " 1   alpha        100000 non-null  float64\n",
      " 2   delta        100000 non-null  float64\n",
      " 3   u            100000 non-null  float64\n",
      " 4   g            100000 non-null  float64\n",
      " 5   r            100000 non-null  float64\n",
      " 6   i            100000 non-null  float64\n",
      " 7   z            100000 non-null  float64\n",
      " 8   run_ID       100000 non-null  int64  \n",
      " 9   rerun_ID     100000 non-null  int64  \n",
      " 10  cam_col      100000 non-null  int64  \n",
      " 11  field_ID     100000 non-null  int64  \n",
      " 12  spec_obj_ID  100000 non-null  float64\n",
      " 13  class        100000 non-null  object \n",
      " 14  redshift     100000 non-null  float64\n",
      " 15  plate        100000 non-null  int64  \n",
      " 16  MJD          100000 non-null  int64  \n",
      " 17  fiber_ID     100000 non-null  int64  \n",
      "dtypes: float64(10), int64(7), object(1)\n",
      "memory usage: 13.7+ MB\n"
     ]
    }
   ],
   "source": [
    "df.info()"
   ]
  },
  {
   "cell_type": "code",
   "execution_count": 10,
   "id": "a2ff7293",
   "metadata": {},
   "outputs": [
    {
     "data": {
      "text/plain": [
       "obj_ID         0\n",
       "alpha          0\n",
       "delta          0\n",
       "u              0\n",
       "g              0\n",
       "r              0\n",
       "i              0\n",
       "z              0\n",
       "run_ID         0\n",
       "rerun_ID       0\n",
       "cam_col        0\n",
       "field_ID       0\n",
       "spec_obj_ID    0\n",
       "class          0\n",
       "redshift       0\n",
       "plate          0\n",
       "MJD            0\n",
       "fiber_ID       0\n",
       "dtype: int64"
      ]
     },
     "execution_count": 10,
     "metadata": {},
     "output_type": "execute_result"
    }
   ],
   "source": [
    "# Checking if we got any missing values in the data.\n",
    "df.isna().sum()"
   ]
  },
  {
   "cell_type": "code",
   "execution_count": 11,
   "id": "a7c8ed34",
   "metadata": {},
   "outputs": [],
   "source": [
    "# Based on data only certain columns are significant. Removed columns are the ones displaying IDs,\n",
    "# which are of little to no importance in out process of making a model.\n",
    "stellar_df = df[['alpha', 'delta', 'u', 'g', 'r', 'i', 'z', 'cam_col', 'class', 'redshift', 'plate', 'MJD']]"
   ]
  },
  {
   "cell_type": "code",
   "execution_count": 12,
   "id": "e4d0992c",
   "metadata": {},
   "outputs": [
    {
     "data": {
      "text/plain": [
       "(100000, 12)"
      ]
     },
     "execution_count": 12,
     "metadata": {},
     "output_type": "execute_result"
    }
   ],
   "source": [
    "stellar_df.shape"
   ]
  },
  {
   "cell_type": "code",
   "execution_count": 13,
   "id": "c721d2a9",
   "metadata": {},
   "outputs": [
    {
     "data": {
      "text/html": [
       "<div>\n",
       "<style scoped>\n",
       "    .dataframe tbody tr th:only-of-type {\n",
       "        vertical-align: middle;\n",
       "    }\n",
       "\n",
       "    .dataframe tbody tr th {\n",
       "        vertical-align: top;\n",
       "    }\n",
       "\n",
       "    .dataframe thead th {\n",
       "        text-align: right;\n",
       "    }\n",
       "</style>\n",
       "<table border=\"1\" class=\"dataframe\">\n",
       "  <thead>\n",
       "    <tr style=\"text-align: right;\">\n",
       "      <th></th>\n",
       "      <th>alpha</th>\n",
       "      <th>delta</th>\n",
       "      <th>u</th>\n",
       "      <th>g</th>\n",
       "      <th>r</th>\n",
       "      <th>i</th>\n",
       "      <th>z</th>\n",
       "      <th>cam_col</th>\n",
       "      <th>redshift</th>\n",
       "      <th>plate</th>\n",
       "      <th>MJD</th>\n",
       "    </tr>\n",
       "  </thead>\n",
       "  <tbody>\n",
       "    <tr>\n",
       "      <th>count</th>\n",
       "      <td>100000.000000</td>\n",
       "      <td>100000.000000</td>\n",
       "      <td>100000.000000</td>\n",
       "      <td>100000.000000</td>\n",
       "      <td>100000.000000</td>\n",
       "      <td>100000.000000</td>\n",
       "      <td>100000.000000</td>\n",
       "      <td>100000.000000</td>\n",
       "      <td>100000.000000</td>\n",
       "      <td>100000.000000</td>\n",
       "      <td>100000.000000</td>\n",
       "    </tr>\n",
       "    <tr>\n",
       "      <th>mean</th>\n",
       "      <td>177.629117</td>\n",
       "      <td>24.135305</td>\n",
       "      <td>21.980468</td>\n",
       "      <td>20.531387</td>\n",
       "      <td>19.645762</td>\n",
       "      <td>19.084854</td>\n",
       "      <td>18.668810</td>\n",
       "      <td>3.511610</td>\n",
       "      <td>0.576661</td>\n",
       "      <td>5137.009660</td>\n",
       "      <td>55588.647500</td>\n",
       "    </tr>\n",
       "    <tr>\n",
       "      <th>std</th>\n",
       "      <td>96.502241</td>\n",
       "      <td>19.644665</td>\n",
       "      <td>31.769291</td>\n",
       "      <td>31.750292</td>\n",
       "      <td>1.854760</td>\n",
       "      <td>1.757895</td>\n",
       "      <td>31.728152</td>\n",
       "      <td>1.586912</td>\n",
       "      <td>0.730707</td>\n",
       "      <td>2952.303351</td>\n",
       "      <td>1808.484233</td>\n",
       "    </tr>\n",
       "    <tr>\n",
       "      <th>min</th>\n",
       "      <td>0.005528</td>\n",
       "      <td>-18.785328</td>\n",
       "      <td>-9999.000000</td>\n",
       "      <td>-9999.000000</td>\n",
       "      <td>9.822070</td>\n",
       "      <td>9.469903</td>\n",
       "      <td>-9999.000000</td>\n",
       "      <td>1.000000</td>\n",
       "      <td>-0.009971</td>\n",
       "      <td>266.000000</td>\n",
       "      <td>51608.000000</td>\n",
       "    </tr>\n",
       "    <tr>\n",
       "      <th>25%</th>\n",
       "      <td>127.518222</td>\n",
       "      <td>5.146771</td>\n",
       "      <td>20.352353</td>\n",
       "      <td>18.965230</td>\n",
       "      <td>18.135828</td>\n",
       "      <td>17.732285</td>\n",
       "      <td>17.460677</td>\n",
       "      <td>2.000000</td>\n",
       "      <td>0.054517</td>\n",
       "      <td>2526.000000</td>\n",
       "      <td>54234.000000</td>\n",
       "    </tr>\n",
       "    <tr>\n",
       "      <th>50%</th>\n",
       "      <td>180.900700</td>\n",
       "      <td>23.645922</td>\n",
       "      <td>22.179135</td>\n",
       "      <td>21.099835</td>\n",
       "      <td>20.125290</td>\n",
       "      <td>19.405145</td>\n",
       "      <td>19.004595</td>\n",
       "      <td>4.000000</td>\n",
       "      <td>0.424173</td>\n",
       "      <td>4987.000000</td>\n",
       "      <td>55868.500000</td>\n",
       "    </tr>\n",
       "    <tr>\n",
       "      <th>75%</th>\n",
       "      <td>233.895005</td>\n",
       "      <td>39.901550</td>\n",
       "      <td>23.687440</td>\n",
       "      <td>22.123767</td>\n",
       "      <td>21.044785</td>\n",
       "      <td>20.396495</td>\n",
       "      <td>19.921120</td>\n",
       "      <td>5.000000</td>\n",
       "      <td>0.704154</td>\n",
       "      <td>7400.250000</td>\n",
       "      <td>56777.000000</td>\n",
       "    </tr>\n",
       "    <tr>\n",
       "      <th>max</th>\n",
       "      <td>359.999810</td>\n",
       "      <td>83.000519</td>\n",
       "      <td>32.781390</td>\n",
       "      <td>31.602240</td>\n",
       "      <td>29.571860</td>\n",
       "      <td>32.141470</td>\n",
       "      <td>29.383740</td>\n",
       "      <td>6.000000</td>\n",
       "      <td>7.011245</td>\n",
       "      <td>12547.000000</td>\n",
       "      <td>58932.000000</td>\n",
       "    </tr>\n",
       "  </tbody>\n",
       "</table>\n",
       "</div>"
      ],
      "text/plain": [
       "               alpha          delta              u              g  \\\n",
       "count  100000.000000  100000.000000  100000.000000  100000.000000   \n",
       "mean      177.629117      24.135305      21.980468      20.531387   \n",
       "std        96.502241      19.644665      31.769291      31.750292   \n",
       "min         0.005528     -18.785328   -9999.000000   -9999.000000   \n",
       "25%       127.518222       5.146771      20.352353      18.965230   \n",
       "50%       180.900700      23.645922      22.179135      21.099835   \n",
       "75%       233.895005      39.901550      23.687440      22.123767   \n",
       "max       359.999810      83.000519      32.781390      31.602240   \n",
       "\n",
       "                   r              i              z        cam_col  \\\n",
       "count  100000.000000  100000.000000  100000.000000  100000.000000   \n",
       "mean       19.645762      19.084854      18.668810       3.511610   \n",
       "std         1.854760       1.757895      31.728152       1.586912   \n",
       "min         9.822070       9.469903   -9999.000000       1.000000   \n",
       "25%        18.135828      17.732285      17.460677       2.000000   \n",
       "50%        20.125290      19.405145      19.004595       4.000000   \n",
       "75%        21.044785      20.396495      19.921120       5.000000   \n",
       "max        29.571860      32.141470      29.383740       6.000000   \n",
       "\n",
       "            redshift          plate            MJD  \n",
       "count  100000.000000  100000.000000  100000.000000  \n",
       "mean        0.576661    5137.009660   55588.647500  \n",
       "std         0.730707    2952.303351    1808.484233  \n",
       "min        -0.009971     266.000000   51608.000000  \n",
       "25%         0.054517    2526.000000   54234.000000  \n",
       "50%         0.424173    4987.000000   55868.500000  \n",
       "75%         0.704154    7400.250000   56777.000000  \n",
       "max         7.011245   12547.000000   58932.000000  "
      ]
     },
     "execution_count": 13,
     "metadata": {},
     "output_type": "execute_result"
    }
   ],
   "source": [
    "stellar_df.describe()"
   ]
  },
  {
   "cell_type": "markdown",
   "id": "39909b29",
   "metadata": {},
   "source": [
    "### Step 3\n",
    "Visualising the data for understanding how it is spread out by using differnt plots using the seaborn library."
   ]
  },
  {
   "cell_type": "code",
   "execution_count": 14,
   "id": "7c7d01d5",
   "metadata": {},
   "outputs": [
    {
     "data": {
      "text/plain": [
       "<AxesSubplot:xlabel='alpha', ylabel='redshift'>"
      ]
     },
     "execution_count": 14,
     "metadata": {},
     "output_type": "execute_result"
    },
    {
     "data": {
      "image/png": "[encoded data removed]",
      "text/plain": [
       "<Figure size 432x288 with 1 Axes>"
      ]
     },
     "metadata": {
      "needs_background": "light"
     },
     "output_type": "display_data"
    }
   ],
   "source": [
    "sns.scatterplot(data=stellar_df, x=\"alpha\", y=\"redshift\", color=\"orange\")"
   ]
  },
  {
   "cell_type": "code",
   "execution_count": 15,
   "id": "41f3a42d",
   "metadata": {},
   "outputs": [
    {
     "data": {
      "text/plain": [
       "<AxesSubplot:xlabel='delta', ylabel='Count'>"
      ]
     },
     "execution_count": 15,
     "metadata": {},
     "output_type": "execute_result"
    },
    {
     "data": {
      "image/png": "[encoded data removed]",
      "text/plain": [
       "<Figure size 432x288 with 1 Axes>"
      ]
     },
     "metadata": {
      "needs_background": "light"
     },
     "output_type": "display_data"
    }
   ],
   "source": [
    "sns.histplot(data=stellar_df, x=\"delta\", color=\"black\")"
   ]
  },
  {
   "cell_type": "code",
   "execution_count": 16,
   "id": "9b55b491",
   "metadata": {},
   "outputs": [
    {
     "data": {
      "text/plain": [
       "<AxesSubplot:xlabel='redshift', ylabel='Count'>"
      ]
     },
     "execution_count": 16,
     "metadata": {},
     "output_type": "execute_result"
    },
    {
     "data": {
      "image/png": "[encoded data removed]",
      "text/plain": [
       "<Figure size 432x288 with 1 Axes>"
      ]
     },
     "metadata": {
      "needs_background": "light"
     },
     "output_type": "display_data"
    }
   ],
   "source": [
    "sns.histplot(data=stellar_df, x=\"redshift\", color=\"r\")"
   ]
  },
  {
   "cell_type": "markdown",
   "id": "fd763c62",
   "metadata": {},
   "source": [
    "### Step 4\n",
    "Making the training and testing data split based on the 'class' column which is to be predicted."
   ]
  },
  {
   "cell_type": "code",
   "execution_count": 17,
   "id": "ceb79f73",
   "metadata": {},
   "outputs": [
    {
     "data": {
      "text/plain": [
       "GALAXY    59445\n",
       "STAR      21594\n",
       "QSO       18961\n",
       "Name: class, dtype: int64"
      ]
     },
     "execution_count": 17,
     "metadata": {},
     "output_type": "execute_result"
    }
   ],
   "source": [
    "stellar_df[\"class\"].value_counts()"
   ]
  },
  {
   "cell_type": "code",
   "execution_count": 18,
   "id": "6f1c8a1e",
   "metadata": {
    "scrolled": true
   },
   "outputs": [
    {
     "name": "stderr",
     "output_type": "stream",
     "text": [
      "C:\\Users\\Abhishek\\AppData\\Local\\Temp\\ipykernel_7400\\2087777930.py:2: SettingWithCopyWarning: \n",
      "A value is trying to be set on a copy of a slice from a DataFrame.\n",
      "Try using .loc[row_indexer,col_indexer] = value instead\n",
      "\n",
      "See the caveats in the documentation: https://pandas.pydata.org/pandas-docs/stable/user_guide/indexing.html#returning-a-view-versus-a-copy\n",
      "  stellar_df[\"class\"] = [0 if i==\"STAR\" else 1 if i==\"QSO\" else 2 for i in stellar_df[\"class\"]]\n"
     ]
    }
   ],
   "source": [
    "# Modifying the class column to be a value rather than a string for the model\n",
    "stellar_df[\"class\"] = [0 if i==\"STAR\" else 1 if i==\"QSO\" else 2 for i in stellar_df[\"class\"]]"
   ]
  },
  {
   "cell_type": "code",
   "execution_count": 19,
   "id": "9912222a",
   "metadata": {
    "scrolled": true
   },
   "outputs": [
    {
     "name": "stdout",
     "output_type": "stream",
     "text": [
      "(100000, 11)\n",
      "(100000,)\n"
     ]
    }
   ],
   "source": [
    "# X is the set of features based on which y (the class) is to be predicted/classified.\n",
    "X = stellar_df.drop('class',axis=1)\n",
    "y = stellar_df['class']\n",
    "print(X.shape)\n",
    "print(y.shape)"
   ]
  },
  {
   "cell_type": "code",
   "execution_count": 20,
   "id": "9a84db72",
   "metadata": {},
   "outputs": [],
   "source": [
    "# Making the test size to 25% of total dataset and setting random state to \n",
    "# a fixed value will guarantee that same sequence of random numbers are generated each time we run the code. \n",
    "from sklearn.model_selection import train_test_split\n",
    "X_train, X_test, y_train, y_test = train_test_split(X, y, test_size = 0.25, random_state = 7)"
   ]
  },
  {
   "cell_type": "markdown",
   "id": "2d8be642",
   "metadata": {},
   "source": [
    "### Step 5\n",
    "Preprocess the data and try different models (Random forest & Support Vector Machine here) while aiming for getting the highest accuracy."
   ]
  },
  {
   "cell_type": "code",
   "execution_count": 21,
   "id": "a966dbc3",
   "metadata": {},
   "outputs": [],
   "source": [
    "from sklearn.preprocessing import StandardScaler\n",
    "scaler = StandardScaler()\n",
    "X_train = scaler.fit_transform(X_train)\n",
    "X_test  = scaler.transform(X_test)"
   ]
  },
  {
   "cell_type": "code",
   "execution_count": 22,
   "id": "b4eaa412",
   "metadata": {},
   "outputs": [],
   "source": [
    "# Random forest classifier\n",
    "from sklearn.ensemble import RandomForestClassifier\n",
    "\n",
    "r_forest = RandomForestClassifier()\n",
    "r_forest.fit(X_train,y_train)\n",
    "\n",
    "predicted = r_forest.predict(X_test)\n",
    "score = r_forest.score(X_test, y_test)\n",
    "rf_score = np.mean(score)"
   ]
  },
  {
   "cell_type": "code",
   "execution_count": 23,
   "id": "65ded2c7",
   "metadata": {},
   "outputs": [
    {
     "name": "stdout",
     "output_type": "stream",
     "text": [
      "Accuracy Achieved by Random forest classifier: 97.928 %\n"
     ]
    }
   ],
   "source": [
    "print(f\"Accuracy Achieved by Random forest classifier: {rf_score*100} %\")"
   ]
  },
  {
   "cell_type": "code",
   "execution_count": 24,
   "id": "dabb4d4d",
   "metadata": {},
   "outputs": [],
   "source": [
    "# SVM - Support Vector Machine Classifier\n",
    "from sklearn.svm import SVC\n",
    "from sklearn.pipeline import make_pipeline\n",
    "\n",
    "svem = make_pipeline(StandardScaler(), SVC(gamma='auto'))\n",
    "svem.fit(X_train,y_train)\n",
    "\n",
    "predicted = svem.predict(X_test)\n",
    "score = svem.score(X_test, y_test)\n",
    "svem_score = np.mean(score)"
   ]
  },
  {
   "cell_type": "code",
   "execution_count": 25,
   "id": "f5205004",
   "metadata": {},
   "outputs": [
    {
     "name": "stdout",
     "output_type": "stream",
     "text": [
      "Accuracy Achieved in SVM: 95.87599999999999 %\n"
     ]
    }
   ],
   "source": [
    "print(f\"Accuracy Achieved in SVM: {svem_score*100} %\")"
   ]
  },
  {
   "cell_type": "code",
   "execution_count": 34,
   "id": "7b659ddc",
   "metadata": {},
   "outputs": [],
   "source": [
    "# Neural Network\n",
    "from sklearn.neural_network import MLPClassifier\n",
    "nn = MLPClassifier(solver='lbfgs', alpha=1e-5, hidden_layer_sizes=(5, 2), random_state=1, max_iter=1000)\n",
    "nn.fit(X_train, y_train)\n",
    "score = nn.score(X_test, y_test)\n",
    "nn_score = np.mean(score)"
   ]
  },
  {
   "cell_type": "code",
   "execution_count": 35,
   "id": "50adb026",
   "metadata": {},
   "outputs": [
    {
     "name": "stdout",
     "output_type": "stream",
     "text": [
      "Accuracy Achieved in Neural Network: 96.848 %\n"
     ]
    }
   ],
   "source": [
    "print(f\"Accuracy Achieved in Neural Network: {nn_score*100} %\")"
   ]
  },
  {
   "cell_type": "code",
   "execution_count": 36,
   "id": "98642b40",
   "metadata": {},
   "outputs": [
    {
     "name": "stderr",
     "output_type": "stream",
     "text": [
      "c:\\users\\abhishek\\appdata\\local\\programs\\python\\python39\\lib\\site-packages\\sklearn\\neural_network\\_multilayer_perceptron.py:549: ConvergenceWarning: lbfgs failed to converge (status=1):\n",
      "STOP: TOTAL NO. of ITERATIONS REACHED LIMIT.\n",
      "\n",
      "Increase the number of iterations (max_iter) or scale the data as shown in:\n",
      "    https://scikit-learn.org/stable/modules/preprocessing.html\n",
      "  self.n_iter_ = _check_optimize_result(\"lbfgs\", opt_res, self.max_iter)\n"
     ]
    }
   ],
   "source": [
    "# Neural Network with different hidden layer size\n",
    "from sklearn.neural_network import MLPClassifier\n",
    "nn2 = MLPClassifier(solver='lbfgs', alpha=1e-5, hidden_layer_sizes=(6, 3), random_state=1, max_iter=1000)\n",
    "nn2.fit(X_train, y_train)\n",
    "score = nn2.score(X_test, y_test)\n",
    "nn2_score = np.mean(score)"
   ]
  },
  {
   "cell_type": "code",
   "execution_count": 37,
   "id": "75205f24",
   "metadata": {},
   "outputs": [
    {
     "name": "stdout",
     "output_type": "stream",
     "text": [
      "97.15599999999999\n"
     ]
    }
   ],
   "source": [
    "print(nn2_score*100)"
   ]
  },
  {
   "cell_type": "code",
   "execution_count": 41,
   "id": "09960bf9",
   "metadata": {},
   "outputs": [
    {
     "name": "stdout",
     "output_type": "stream",
     "text": [
      "Score: 0.97928\n",
      "Score: 0.97156\n",
      "Score: 0.95876\n"
     ]
    }
   ],
   "source": [
    "model_scores=[rf_score, nn2_score, svem_score]\n",
    "for i in model_scores:\n",
    "    print(f\"Score: {i}\")"
   ]
  },
  {
   "cell_type": "markdown",
   "id": "ea75eff9",
   "metadata": {},
   "source": [
    "## Result\n",
    "We find that our Random forest classifier performs the best that is 97.92%"
   ]
  },
  {
   "cell_type": "code",
   "execution_count": 85,
   "id": "59ae8917",
   "metadata": {},
   "outputs": [
    {
     "name": "stdout",
     "output_type": "stream",
     "text": [
      "[-1.43480437  0.26044538 -0.01418932 -0.0041264   0.03091502  0.19792942\n",
      "  0.01535686  0.93791797 -0.78959446 -0.9124824  -0.83370216]\n",
      "Predicted class: QSO\n"
     ]
    }
   ],
   "source": [
    "print(X_train[19])\n",
    "class_dict = {\n",
    "  0: \"STAR\",\n",
    "  1: \"QSO\",\n",
    "  2: \"GALAXY\"\n",
    "}\n",
    "prediction = r_forest.predict([X_train[1]])\n",
    "print(f\"Predicted class: {class_dict[prediction[0]]}\")"
   ]
  },
  {
   "cell_type": "code",
   "execution_count": 86,
   "id": "ee66ad87",
   "metadata": {},
   "outputs": [
    {
     "name": "stdout",
     "output_type": "stream",
     "text": [
      "Predicted class: QSO\n"
     ]
    }
   ],
   "source": [
    "# Taking above example and changing values \n",
    "exp_data = [0.5284327 , -1.12519075,  0.19588647,  0.0443259 ,  0.28241633,\n",
    "        0.14658281,  0.04755141,  0.40811594,  2.92790288, -0.27501299,\n",
    "        0.11645269]\n",
    "\n",
    "prediction = r_forest.predict([exp_data])\n",
    "print(f\"Predicted class: {class_dict[prediction[0]]}\")"
   ]
  },
  {
   "cell_type": "markdown",
   "id": "8be350b5",
   "metadata": {},
   "source": [
    "## Save and load model"
   ]
  },
  {
   "cell_type": "code",
   "execution_count": 94,
   "id": "87cada34",
   "metadata": {},
   "outputs": [],
   "source": [
    "import pickle\n",
    "filename = 'rf_model.pkl'\n",
    "# pickle.dump(r_forest, open(filename, 'wb'))\n",
    "with open(filename, 'wb') as file:\n",
    "    pickle.dump(r_forest, file)"
   ]
  },
  {
   "cell_type": "code",
   "execution_count": 95,
   "id": "fedde0f3",
   "metadata": {},
   "outputs": [
    {
     "name": "stdout",
     "output_type": "stream",
     "text": [
      "Resultant Accuracy from saved model: 97.928 %\n"
     ]
    }
   ],
   "source": [
    "loaded_model = pickle.load(open(filename, 'rb'))\n",
    "result = loaded_model.score(X_test, y_test)\n",
    "print(f\"Resultant Accuracy from saved model: {result*100} %\")"
   ]
  },
  {
   "cell_type": "markdown",
   "id": "c8ef3fd1",
   "metadata": {},
   "source": [
    "## Towards the web app\n",
    "Now using this model we create a simple web app using flask."
   ]
  }
 ],
 "metadata": {
  "kernelspec": {
   "display_name": "Python 3 (ipykernel)",
   "language": "python",
   "name": "python3"
  },
  "language_info": {
   "codemirror_mode": {
    "name": "ipython",
    "version": 3
   },
   "file_extension": ".py",
   "mimetype": "text/x-python",
   "name": "python",
   "nbconvert_exporter": "python",
   "pygments_lexer": "ipython3",
   "version": "3.9.5"
  }
 },
 "nbformat": 4,
 "nbformat_minor": 5
}
